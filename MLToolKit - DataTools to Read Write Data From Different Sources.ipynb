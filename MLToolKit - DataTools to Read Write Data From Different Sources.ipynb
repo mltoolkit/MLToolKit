{
 "cells": [
  {
   "cell_type": "markdown",
   "metadata": {},
   "source": [
    "# MLToolKit Example\n",
    "## Using DataTools to Read Write Data From Different Sources\n",
    "Create Date: December 15, 2019; Last Update: December 31, 2019. \n",
    "Apache License, Version 2.0 (http://www.apache.org/licenses/LICENSE-2.0)\n",
    "<hr>"
   ]
  },
  {
   "cell_type": "markdown",
   "metadata": {},
   "source": [
    "### Current release: PyMLToolKit [v0.1.10]\n",
    "\n",
    "MLToolKit (mltk) is a Python package providing a set of user-friendly functions to help building machine learning models in data science research, teaching or production focused projects. MLToolkit supports all stages of the machine learning application development process.\n",
    "\n",
    "### Installation\n",
    "```\n",
    "pip install pymltoolkit\n",
    "```\n",
    "If the installation failed with dependancy issues, execute the above command with --no-dependencies\n",
    "\n",
    "```\n",
    "pip install pymltoolkit --no-dependencies"
   ]
  },
  {
   "cell_type": "code",
   "execution_count": 1,
   "metadata": {},
   "outputs": [
    {
     "name": "stdout",
     "output_type": "stream",
     "text": [
      "mltk==0.1.10\n",
      "\n",
      "Some functions of MLToolKit depends on number of Open Source Python Libraries such as\n",
      "- Data Manipulation : Pandas\n",
      "- Machine Learning: Statsmodels, Scikit-learn, Catboost\n",
      "- Deep Learning: Tensorflow, \n",
      "- Model Interpretability: Shap, Lime\n",
      "- Server Framework: Flask\n",
      "- Text Processing: BeautifulSoup, TextLab\n",
      "- Database Connectivity: SQLAlchemy, PyODBC\n",
      "MLToolkit Project acknowledge the creators and contributors of the above libraries for their contribution to the Open Source Community.\n",
      "\n"
     ]
    }
   ],
   "source": [
    "import mltk"
   ]
  },
  {
   "cell_type": "markdown",
   "metadata": {},
   "source": [
    "## 1. CSV Files"
   ]
  },
  {
   "cell_type": "markdown",
   "metadata": {},
   "source": [
    "### Read Data"
   ]
  },
  {
   "cell_type": "code",
   "execution_count": 2,
   "metadata": {},
   "outputs": [
    {
     "name": "stdout",
     "output_type": "stream",
     "text": [
      "csv C:\\Projects\\Data\\incomedata.csv\n",
      "read time is 0.091 s\n",
      "read 32,561 records\n"
     ]
    },
    {
     "data": {
      "text/html": [
       "<div>\n",
       "<style scoped>\n",
       "    .dataframe tbody tr th:only-of-type {\n",
       "        vertical-align: middle;\n",
       "    }\n",
       "\n",
       "    .dataframe tbody tr th {\n",
       "        vertical-align: top;\n",
       "    }\n",
       "\n",
       "    .dataframe thead th {\n",
       "        text-align: right;\n",
       "    }\n",
       "</style>\n",
       "<table border=\"1\" class=\"dataframe\">\n",
       "  <thead>\n",
       "    <tr style=\"text-align: right;\">\n",
       "      <th></th>\n",
       "      <th>age</th>\n",
       "      <th>workclass</th>\n",
       "      <th>fnlwgt</th>\n",
       "      <th>education</th>\n",
       "      <th>education-num</th>\n",
       "      <th>marital-status</th>\n",
       "      <th>occupation</th>\n",
       "      <th>relationship</th>\n",
       "      <th>race</th>\n",
       "      <th>sex</th>\n",
       "      <th>capital-gain</th>\n",
       "      <th>capital-loss</th>\n",
       "      <th>hours-per-week</th>\n",
       "      <th>native-country</th>\n",
       "      <th>income</th>\n",
       "    </tr>\n",
       "  </thead>\n",
       "  <tbody>\n",
       "    <tr>\n",
       "      <th>0</th>\n",
       "      <td>90</td>\n",
       "      <td>?</td>\n",
       "      <td>77053</td>\n",
       "      <td>HS-grad</td>\n",
       "      <td>9</td>\n",
       "      <td>Widowed</td>\n",
       "      <td>?</td>\n",
       "      <td>Not-in-family</td>\n",
       "      <td>White</td>\n",
       "      <td>Female</td>\n",
       "      <td>0</td>\n",
       "      <td>4356</td>\n",
       "      <td>40</td>\n",
       "      <td>United-States</td>\n",
       "      <td>&lt;=50K</td>\n",
       "    </tr>\n",
       "    <tr>\n",
       "      <th>1</th>\n",
       "      <td>82</td>\n",
       "      <td>Private</td>\n",
       "      <td>132870</td>\n",
       "      <td>HS-grad</td>\n",
       "      <td>9</td>\n",
       "      <td>Widowed</td>\n",
       "      <td>Exec-managerial</td>\n",
       "      <td>Not-in-family</td>\n",
       "      <td>White</td>\n",
       "      <td>Female</td>\n",
       "      <td>0</td>\n",
       "      <td>4356</td>\n",
       "      <td>18</td>\n",
       "      <td>United-States</td>\n",
       "      <td>&lt;=50K</td>\n",
       "    </tr>\n",
       "    <tr>\n",
       "      <th>2</th>\n",
       "      <td>66</td>\n",
       "      <td>?</td>\n",
       "      <td>186061</td>\n",
       "      <td>Some-college</td>\n",
       "      <td>10</td>\n",
       "      <td>Widowed</td>\n",
       "      <td>?</td>\n",
       "      <td>Unmarried</td>\n",
       "      <td>Black</td>\n",
       "      <td>Female</td>\n",
       "      <td>0</td>\n",
       "      <td>4356</td>\n",
       "      <td>40</td>\n",
       "      <td>United-States</td>\n",
       "      <td>&lt;=50K</td>\n",
       "    </tr>\n",
       "    <tr>\n",
       "      <th>3</th>\n",
       "      <td>54</td>\n",
       "      <td>Private</td>\n",
       "      <td>140359</td>\n",
       "      <td>7th-8th</td>\n",
       "      <td>4</td>\n",
       "      <td>Divorced</td>\n",
       "      <td>Machine-op-inspct</td>\n",
       "      <td>Unmarried</td>\n",
       "      <td>White</td>\n",
       "      <td>Female</td>\n",
       "      <td>0</td>\n",
       "      <td>3900</td>\n",
       "      <td>40</td>\n",
       "      <td>United-States</td>\n",
       "      <td>&lt;=50K</td>\n",
       "    </tr>\n",
       "    <tr>\n",
       "      <th>4</th>\n",
       "      <td>41</td>\n",
       "      <td>Private</td>\n",
       "      <td>264663</td>\n",
       "      <td>Some-college</td>\n",
       "      <td>10</td>\n",
       "      <td>Separated</td>\n",
       "      <td>Prof-specialty</td>\n",
       "      <td>Own-child</td>\n",
       "      <td>White</td>\n",
       "      <td>Female</td>\n",
       "      <td>0</td>\n",
       "      <td>3900</td>\n",
       "      <td>40</td>\n",
       "      <td>United-States</td>\n",
       "      <td>&lt;=50K</td>\n",
       "    </tr>\n",
       "  </tbody>\n",
       "</table>\n",
       "</div>"
      ],
      "text/plain": [
       "   age workclass  fnlwgt     education  education-num marital-status         occupation   relationship   race     sex  capital-gain  capital-loss  hours-per-week native-country income\n",
       "0   90         ?   77053       HS-grad              9        Widowed                  ?  Not-in-family  White  Female             0          4356              40  United-States  <=50K\n",
       "1   82   Private  132870       HS-grad              9        Widowed    Exec-managerial  Not-in-family  White  Female             0          4356              18  United-States  <=50K\n",
       "2   66         ?  186061  Some-college             10        Widowed                  ?      Unmarried  Black  Female             0          4356              40  United-States  <=50K\n",
       "3   54   Private  140359       7th-8th              4       Divorced  Machine-op-inspct      Unmarried  White  Female             0          3900              40  United-States  <=50K\n",
       "4   41   Private  264663  Some-college             10      Separated     Prof-specialty      Own-child  White  Female             0          3900              40  United-States  <=50K"
      ]
     },
     "execution_count": 2,
     "metadata": {},
     "output_type": "execute_result"
    }
   ],
   "source": [
    "data_connector = {\n",
    "    'type' : 'csv', #{'snowflake', 'mysql', 'csv', 'pickle', 'hdf'}\n",
    "    'connect_parameters' : {\n",
    "        'file_path':r'C:\\Projects\\Data\\incomedata.csv'\n",
    "    }\n",
    "}\n",
    "\n",
    "data_object = {\n",
    "    'identifiers' :{\n",
    "        'dataset_label' : 'incomedata'\n",
    "    }\n",
    "}\n",
    "\n",
    "execute_params = {\n",
    "    'return_time'  : False, \n",
    "    'return_rowcount' : False \n",
    "}\n",
    "\n",
    "Data = mltk.read_data(data_connector=data_connector, data_object=data_object, execute_params=execute_params)\n",
    "Data.head()"
   ]
  },
  {
   "cell_type": "markdown",
   "metadata": {},
   "source": [
    "### Write Data"
   ]
  },
  {
   "cell_type": "code",
   "execution_count": 3,
   "metadata": {},
   "outputs": [
    {
     "name": "stdout",
     "output_type": "stream",
     "text": [
      "write time is 0.153 s\n",
      "write 32,561 records\n"
     ]
    }
   ],
   "source": [
    "data_connector = {\n",
    "    'type' : 'csv', #{'snowflake', 'mysql', 'csv', 'pickle', 'hdf'}\n",
    "    'connect_parameters' : {\n",
    "        'file_path':r'C:\\Projects\\Data\\incomedata_save.csv'\n",
    "    }\n",
    "}\n",
    "\n",
    "data_object = {\n",
    "    'identifiers' :{\n",
    "        'dataset_label' : 'incomedata'\n",
    "    },\n",
    "    'structure_parameters' : {\n",
    "        'index' : False\n",
    "    },\n",
    "    'format_parameters': {    \n",
    "        'separator' : ',',\n",
    "        'quoting' : 'ALL'\n",
    "    }\n",
    "}\n",
    "\n",
    "execute_params = {\n",
    "    'return_time'  : False, \n",
    "    'return_rowcount' : False \n",
    "}\n",
    "\n",
    "mltk.write_data(Data , data_connector=data_connector, data_object=data_object, execute_params=execute_params)"
   ]
  },
  {
   "cell_type": "markdown",
   "metadata": {},
   "source": [
    "## 2. HDF Files"
   ]
  },
  {
   "cell_type": "markdown",
   "metadata": {},
   "source": [
    "## Cite as\n",
    "```\n",
    "@misc{mltk2019,\n",
    "  author =  \"Sumudu Tennakoon\",\n",
    "  title = \"MLToolKit(mltk): A Simplified Toolkit for Unifying End-To-End Machine Learing Projects\",\n",
    "  year = 2019,\n",
    "  publisher = \"GitHub\",\n",
    "  howpublished = {\\url{https://mltoolkit.github.io/mltk/}},\n",
    "  version = \"0.1.11\"\n",
    "}\n",
    "```"
   ]
  },
  {
   "cell_type": "markdown",
   "metadata": {},
   "source": [
    "<hr>\n",
    "This notebook and related materials were developed by Sumudu Tennakoon to demostrate the JSON-MLS usage in MLToolkit python library and its interoperability with the standared Python data analysis and machine learning packages (e.g. Pandas, Sci-kitlearn, Statsmodel, TensorFlow, Catboost, etc.)\n",
    "Create Date: December 15, 201; Last Update: December 31, 2019. \n",
    "Apache License, Version 2.0 (http://www.apache.org/licenses/LICENSE-2.0)"
   ]
  },
  {
   "cell_type": "code",
   "execution_count": null,
   "metadata": {},
   "outputs": [],
   "source": []
  }
 ],
 "metadata": {
  "kernelspec": {
   "display_name": "Python 3",
   "language": "python",
   "name": "python3"
  },
  "language_info": {
   "codemirror_mode": {
    "name": "ipython",
    "version": 3
   },
   "file_extension": ".py",
   "mimetype": "text/x-python",
   "name": "python",
   "nbconvert_exporter": "python",
   "pygments_lexer": "ipython3",
   "version": "3.6.8"
  }
 },
 "nbformat": 4,
 "nbformat_minor": 2
}
