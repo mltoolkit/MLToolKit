{
 "cells": [
  {
   "cell_type": "markdown",
   "metadata": {},
   "source": [
    "# MLToolKit Model Explainer Example"
   ]
  },
  {
   "cell_type": "markdown",
   "metadata": {},
   "source": [
    "Apache License, Version 2.0 (http://www.apache.org/licenses/LICENSE-2.0)\n",
    "\n",
    "### Current release: PyMLToolKit [v0.1.10]\n",
    "\n",
    "MLToolkit (mltk) is a Python package providing a set of user-friendly functions to help building machine learning models in data science research, teaching or production focused projects. MLToolkit supports all stages of the machine learning application development process.\n",
    "\n",
    "### Installation\n",
    "```\n",
    "pip install pymltoolkit\n",
    "```\n",
    "If the installation failed with dependancy issues, execute the above command with --no-dependencies\n",
    "\n",
    "```\n",
    "pip install pymltoolkit --no-dependencies\n",
    "```"
   ]
  },
  {
   "cell_type": "code",
   "execution_count": 1,
   "metadata": {},
   "outputs": [
    {
     "name": "stdout",
     "output_type": "stream",
     "text": [
      "mltk==0.1.10\n",
      "\n",
      "Some functions of MLToolKit depends on number of Open Source Python Libraries such as\n",
      "- Data Manipulation : Pandas\n",
      "- Machine Learning: Statsmodels, Scikit-learn, Catboost\n",
      "- Deep Learning: Tensorflow, \n",
      "- Model Interpretability: Shap, Lime\n",
      "- Server Framework: Flask\n",
      "- Text Processing: BeautifulSoup, TextLab\n",
      "- Database Connectivity: SQLAlchemy, PyODBC\n",
      "MLToolkit Project acknowledge the creators and contributors of the above libraries for their contribution to the Open Source Community.\n",
      "\n"
     ]
    }
   ],
   "source": [
    "import mltk"
   ]
  },
  {
   "cell_type": "markdown",
   "metadata": {},
   "source": [
    "## ETL Function"
   ]
  },
  {
   "cell_type": "code",
   "execution_count": 2,
   "metadata": {},
   "outputs": [],
   "source": [
    "def ETL(DataFrame, variables_setup_dict=None):\n",
    "    # Add ID column\n",
    "    DataFrame = mltk.add_identity_column(DataFrame, id_label='ID', start=1, increment=1)\n",
    "    \n",
    "    # Clean column names\n",
    "    DataFrame = mltk.clean_column_names(DataFrame, replace='')\n",
    "    input_columns = list(DataFrame.columns)\n",
    "\n",
    "    variables_setup_dict = \"\"\"   \n",
    "    {\n",
    "        \"setting\":\"score\",\n",
    "\n",
    "        \"variables\": {            \n",
    "                \"category_variables\" : [\"sex\", \"race\", \"occupation\", \"workclass\", \"maritalstatus\", \"relationship\"],\n",
    "                \"binary_variables\": [],\n",
    "                \"target_variable\":\"HighIncome\"\n",
    "        },\n",
    "\n",
    "        \"preprocess_tasks\": [\n",
    "            {\n",
    "                \"type\": \"transform\",\n",
    "                \"out_type\":\"cnt\",\n",
    "                \"include\": false,\n",
    "                \"operation\": \"normalize\",\n",
    "                \"variables\": {\n",
    "                    \"source\": \"age\",\n",
    "                    \"destination\": \"normalizedage\"\n",
    "                },\n",
    "                \"parameters\": {\n",
    "                    \"method\": \"zscore\"\n",
    "                }\n",
    "            },\n",
    "            {\n",
    "                \"type\": \"category_merge\",\n",
    "                \"out_type\":\"cat\",\n",
    "                \"include\": true,\n",
    "                \"operation\": \"catmerge\",\n",
    "                \"variables\": {\n",
    "                    \"source\": \"maritalstatus\",\n",
    "                    \"destination\": \"maritalstatus\"\n",
    "                },\n",
    "                \"parameters\": {\n",
    "                    \"group_value\": \"Married\",\n",
    "                    \"values\": [ \"Married-civ-spouse\", \"Married-spouse-absent\", \"Married-AF-spouse\" ]\n",
    "                }\n",
    "            },\n",
    "            {\n",
    "                \"type\": \"entity\",\n",
    "                \"out_type\":\"cat\",\n",
    "                \"include\": true,\n",
    "                \"operation\": \"dictionary\",\n",
    "                \"variables\": {\n",
    "                    \"source\": \"nativecountry\",\n",
    "                    \"destination\": \"nativecountryGRP\"\n",
    "                },\n",
    "                \"parameters\": {\n",
    "                    \"match_type\": null,\n",
    "                    \"dictionary\": [\n",
    "                        {\n",
    "                            \"entity\": \"USA\",\n",
    "                            \"values\": [ \"United-States\" ],\n",
    "                            \"case\": true\n",
    "                        },\n",
    "                        {\n",
    "                            \"entity\": \"Canada\",\n",
    "                            \"values\": [ \"Canada\" ],\n",
    "                            \"case\": true\n",
    "                        },\n",
    "                        {\n",
    "                            \"entity\": \"OtherAmericas\",\n",
    "                            \"values\": [ \"South\", \"Mexico\", \"Trinadad&Tobago\", \"Jamaica\", \"Peru\", \"Nicaragua\", \"Dominican-Republic\", \"Haiti\", \"Ecuador\", \"El-Salvador\", \"Columbia\", \"Honduras\", \"Guatemala\", \"Puerto-Rico\", \"Cuba\", \"Outlying-US(Guam-USVI-etc)\"],\n",
    "                            \"case\": true\n",
    "                        },\n",
    "                        {\n",
    "                            \"entity\": \"Europe-Med\",\n",
    "                            \"values\": [ \"Greece\", \"Holand-Netherlands\", \"Poland\", \"Iran\", \"England\", \"Germany\", \"Italy\", \"Ireland\", \"Hungary\", \"France\", \"Yugoslavia\", \"Scotland\", \"Portugal\" ],\n",
    "                            \"case\": true\n",
    "                        },\n",
    "                        {\n",
    "                            \"entity\": \"Asia\",\n",
    "                            \"values\": [ \"Vietnam\", \"China\", \"Taiwan\", \"India\", \"Philippines\", \"Japan\", \"Hong\", \"Cambodia\", \"Laos\", \"Thailand\" ],\n",
    "                            \"case\": true\n",
    "                        },\n",
    "                        {\n",
    "                            \"entity\": \"Other\",\n",
    "                            \"values\": [ \"?\" ],\n",
    "                            \"case\": true\n",
    "                        }\n",
    "                    ],\n",
    "                    \"null\": \"NA\",\n",
    "                    \"default\": \"OTHER\"\n",
    "                }\n",
    "            },\n",
    "            {\n",
    "                \"type\": \"category\",\n",
    "                \"out_type\":\"cat\",\n",
    "                \"include\": true,\n",
    "                \"operation\": \"bucket\",\n",
    "                \"variables\": {\n",
    "                    \"source\": \"age\",\n",
    "                    \"destination\": null\n",
    "                },\n",
    "                \"parameters\": {\n",
    "                    \"labels_str\": [ \"0\", \"20\", \"30\", \"40\", \"50\", \"60\", \"INF\" ],\n",
    "                    \"right_inclusive\": true,\n",
    "                    \"default\": \"OTHER\",\n",
    "                    \"null\": \"NA\"\n",
    "                }\n",
    "            },\n",
    "            {\n",
    "                \"type\": \"category\",\n",
    "                \"out_type\":\"cat\",\n",
    "                \"include\": true,\n",
    "                \"operation\": \"bucket\",\n",
    "                \"variables\": {\n",
    "                    \"source\": \"educationnum\",\n",
    "                    \"destination\": null\n",
    "                },\n",
    "                \"parameters\": {\n",
    "                    \"labels_str\": [ \"1\", \"5\", \"8\", \"9\", \"12\", \"16\" ],\n",
    "                    \"right_inclusive\": true,\n",
    "                    \"default\": \"OTHER\",\n",
    "                    \"null\": \"NA\"\n",
    "                }\n",
    "            },\n",
    "            {\n",
    "                \"type\": \"category\",\n",
    "                \"out_type\":\"cat\",\n",
    "                \"include\": true,\n",
    "                \"operation\": \"bucket\",\n",
    "                \"variables\": {\n",
    "                    \"source\": \"hoursperweek\",\n",
    "                    \"destination\": null\n",
    "                },\n",
    "                \"parameters\": {\n",
    "                    \"labels_str\": [ \"0\", \"20\", \"35\", \"40\", \"60\", \"INF\" ],\n",
    "                    \"right_inclusive\": true,\n",
    "                    \"default\": \"OTHER\",\n",
    "                    \"null\": \"NA\"\n",
    "                }\n",
    "            }\n",
    "        ]\n",
    "    }\n",
    "    \"\"\"\n",
    "    \n",
    "    DataFrame, categoryVariables, binaryVariables, targetVariable = mltk.setup_variables_task(DataFrame, variables_setup_dict)\n",
    "    \n",
    "    # Create One Hot Encoded Variables\n",
    "    DataFrame, featureVariables, targetVariable = mltk.to_one_hot_encode(DataFrame, category_variables=categoryVariables, binary_variables=binaryVariables, target_variable=targetVariable)\n",
    "\n",
    "    return DataFrame, input_columns"
   ]
  },
  {
   "cell_type": "markdown",
   "metadata": {},
   "source": [
    "## Load Model"
   ]
  },
  {
   "cell_type": "code",
   "execution_count": 3,
   "metadata": {},
   "outputs": [
    {
     "name": "stdout",
     "output_type": "stream",
     "text": [
      "Loading model from file INCOMELEVELRF20191231110921.pkl\n"
     ]
    }
   ],
   "source": [
    "saveFilePath = r'INCOMELEVELRF20191231110921.pkl'\n",
    "MLModelObject = mltk.load_model(saveFilePath)\n",
    "\n",
    "TestInput = \"\"\"\n",
    "{\n",
    "      \"ID\": \"A001\",\n",
    "      \"age\": 32,\n",
    "      \"workclass\": \"Private\",\n",
    "      \"education\": \"Doctorate\",\n",
    "      \"education-num\": 16,\n",
    "      \"marital-status\": \"Married-civ-spouse\",\n",
    "      \"occupation\": \"Prof-specialty\",\n",
    "      \"relationship\": \"Husband\",\n",
    "      \"race\": \"Asian-Pac-Islander\",\n",
    "      \"sex\": \"Male\",\n",
    "      \"capital-gain\": 0,\n",
    "      \"capital-loss\": 0,\n",
    "      \"hours-per-week\": 40,\n",
    "      \"native-country\": \"?\"\n",
    "}\n",
    "\"\"\""
   ]
  },
  {
   "cell_type": "markdown",
   "metadata": {},
   "source": [
    "## Score"
   ]
  },
  {
   "cell_type": "code",
   "execution_count": 4,
   "metadata": {},
   "outputs": [
    {
     "name": "stdout",
     "output_type": "stream",
     "text": [
      "Column ID exists in the DataFrame\n"
     ]
    },
    {
     "data": {
      "text/html": [
       "<div>\n",
       "<style scoped>\n",
       "    .dataframe tbody tr th:only-of-type {\n",
       "        vertical-align: middle;\n",
       "    }\n",
       "\n",
       "    .dataframe tbody tr th {\n",
       "        vertical-align: top;\n",
       "    }\n",
       "\n",
       "    .dataframe thead th {\n",
       "        text-align: right;\n",
       "    }\n",
       "</style>\n",
       "<table border=\"1\" class=\"dataframe\">\n",
       "  <thead>\n",
       "    <tr style=\"text-align: right;\">\n",
       "      <th></th>\n",
       "      <th>ID</th>\n",
       "      <th>age</th>\n",
       "      <th>capitalgain</th>\n",
       "      <th>capitalloss</th>\n",
       "      <th>education</th>\n",
       "      <th>educationnum</th>\n",
       "      <th>hoursperweek</th>\n",
       "      <th>maritalstatus</th>\n",
       "      <th>nativecountry</th>\n",
       "      <th>occupation</th>\n",
       "      <th>race</th>\n",
       "      <th>relationship</th>\n",
       "      <th>sex</th>\n",
       "      <th>workclass</th>\n",
       "      <th>Probability</th>\n",
       "      <th>Score</th>\n",
       "      <th>Predicted</th>\n",
       "    </tr>\n",
       "  </thead>\n",
       "  <tbody>\n",
       "    <tr>\n",
       "      <th>0</th>\n",
       "      <td>A001</td>\n",
       "      <td>32</td>\n",
       "      <td>0</td>\n",
       "      <td>0</td>\n",
       "      <td>Doctorate</td>\n",
       "      <td>16</td>\n",
       "      <td>40</td>\n",
       "      <td>Married</td>\n",
       "      <td>?</td>\n",
       "      <td>Prof-specialty</td>\n",
       "      <td>Asian-Pac-Islander</td>\n",
       "      <td>Husband</td>\n",
       "      <td>Male</td>\n",
       "      <td>Private</td>\n",
       "      <td>0.53248</td>\n",
       "      <td>9</td>\n",
       "      <td>1</td>\n",
       "    </tr>\n",
       "  </tbody>\n",
       "</table>\n",
       "</div>"
      ],
      "text/plain": [
       "     ID  age  capitalgain  capitalloss  education  educationnum  hoursperweek maritalstatus nativecountry      occupation                race relationship   sex workclass  Probability  Score  Predicted\n",
       "0  A001   32            0            0  Doctorate            16            40       Married             ?  Prof-specialty  Asian-Pac-Islander      Husband  Male   Private      0.53248      9          1"
      ]
     },
     "execution_count": 4,
     "metadata": {},
     "output_type": "execute_result"
    }
   ],
   "source": [
    "output = mltk.score_records(TestInput, MLModelObject, edges=None, ETL=ETL, return_type='frame') # Other options for return_type, {'json', 'frame'}\n",
    "output"
   ]
  },
  {
   "cell_type": "markdown",
   "metadata": {},
   "source": [
    "## Prepare Datset to Explain"
   ]
  },
  {
   "cell_type": "code",
   "execution_count": 5,
   "metadata": {},
   "outputs": [
    {
     "name": "stdout",
     "output_type": "stream",
     "text": [
      "Column ID exists in the DataFrame\n"
     ]
    },
    {
     "data": {
      "text/html": [
       "<div>\n",
       "<style scoped>\n",
       "    .dataframe tbody tr th:only-of-type {\n",
       "        vertical-align: middle;\n",
       "    }\n",
       "\n",
       "    .dataframe tbody tr th {\n",
       "        vertical-align: top;\n",
       "    }\n",
       "\n",
       "    .dataframe thead th {\n",
       "        text-align: right;\n",
       "    }\n",
       "</style>\n",
       "<table border=\"1\" class=\"dataframe\">\n",
       "  <thead>\n",
       "    <tr style=\"text-align: right;\">\n",
       "      <th></th>\n",
       "      <th>ID</th>\n",
       "      <th>age</th>\n",
       "      <th>capitalgain</th>\n",
       "      <th>capitalloss</th>\n",
       "      <th>education</th>\n",
       "      <th>educationnum</th>\n",
       "      <th>hoursperweek</th>\n",
       "      <th>maritalstatus</th>\n",
       "      <th>nativecountry</th>\n",
       "      <th>occupation</th>\n",
       "      <th>race</th>\n",
       "      <th>relationship</th>\n",
       "      <th>sex</th>\n",
       "      <th>workclass</th>\n",
       "      <th>Probability</th>\n",
       "      <th>Score</th>\n",
       "      <th>Predicted</th>\n",
       "      <th>HighIncome</th>\n",
       "      <th>normalizedage</th>\n",
       "      <th>nativecountryGRP</th>\n",
       "      <th>ageGRP</th>\n",
       "      <th>educationnumGRP</th>\n",
       "      <th>hoursperweekGRP</th>\n",
       "      <th>workclass_Private</th>\n",
       "      <th>maritalstatus_Married</th>\n",
       "      <th>occupation_Prof-specialty</th>\n",
       "      <th>nativecountryGRP_Other</th>\n",
       "      <th>race_Asian-Pac-Islander</th>\n",
       "      <th>sex_Male</th>\n",
       "      <th>educationnumGRP_5_(12,16]</th>\n",
       "      <th>hoursperweekGRP_3_(35,40]</th>\n",
       "      <th>ageGRP_3_(30,40]</th>\n",
       "      <th>relationship_Husband</th>\n",
       "    </tr>\n",
       "  </thead>\n",
       "  <tbody>\n",
       "    <tr>\n",
       "      <th>0</th>\n",
       "      <td>A001</td>\n",
       "      <td>32</td>\n",
       "      <td>0</td>\n",
       "      <td>0</td>\n",
       "      <td>Doctorate</td>\n",
       "      <td>16</td>\n",
       "      <td>40</td>\n",
       "      <td>Married</td>\n",
       "      <td>?</td>\n",
       "      <td>Prof-specialty</td>\n",
       "      <td>Asian-Pac-Islander</td>\n",
       "      <td>Husband</td>\n",
       "      <td>Male</td>\n",
       "      <td>Private</td>\n",
       "      <td>0.53248</td>\n",
       "      <td>9</td>\n",
       "      <td>1</td>\n",
       "      <td>None</td>\n",
       "      <td>NaN</td>\n",
       "      <td>Other</td>\n",
       "      <td>3_(30,40]</td>\n",
       "      <td>5_(12,16]</td>\n",
       "      <td>3_(35,40]</td>\n",
       "      <td>1</td>\n",
       "      <td>1</td>\n",
       "      <td>1</td>\n",
       "      <td>1</td>\n",
       "      <td>1</td>\n",
       "      <td>1</td>\n",
       "      <td>1</td>\n",
       "      <td>1</td>\n",
       "      <td>1</td>\n",
       "      <td>1</td>\n",
       "    </tr>\n",
       "  </tbody>\n",
       "</table>\n",
       "</div>"
      ],
      "text/plain": [
       "     ID  age  capitalgain  capitalloss  education  educationnum  hoursperweek maritalstatus nativecountry      occupation                race relationship   sex workclass  Probability  Score  Predicted HighIncome  normalizedage nativecountryGRP     ageGRP educationnumGRP hoursperweekGRP  workclass_Private  maritalstatus_Married  occupation_Prof-specialty  nativecountryGRP_Other  race_Asian-Pac-Islander  sex_Male  educationnumGRP_5_(12,16]  hoursperweekGRP_3_(35,40]  ageGRP_3_(30,40]  relationship_Husband\n",
       "0  A001   32            0            0  Doctorate            16            40       Married             ?  Prof-specialty  Asian-Pac-Islander      Husband  Male   Private      0.53248      9          1       None            NaN            Other  3_(30,40]       5_(12,16]       3_(35,40]                  1                      1                          1                       1                        1         1                          1                          1                 1                     1"
      ]
     },
     "execution_count": 5,
     "metadata": {},
     "output_type": "execute_result"
    }
   ],
   "source": [
    "DataFrame = ETL(output)[0]\n",
    "DataFrame"
   ]
  },
  {
   "cell_type": "markdown",
   "metadata": {},
   "source": [
    "## Explain Model Output"
   ]
  },
  {
   "cell_type": "markdown",
   "metadata": {},
   "source": [
    "### Create Explainer (Shap)"
   ]
  },
  {
   "cell_type": "code",
   "execution_count": 6,
   "metadata": {},
   "outputs": [
    {
     "name": "stdout",
     "output_type": "stream",
     "text": [
      "Explainer created ...\n"
     ]
    }
   ],
   "source": [
    "Explainer = mltk.build_explainer(MLModelObject, explainer_config={'IdColumns':['ID'], 'Method':'shap', 'ClassNumber':1, 'FillMissing':0})"
   ]
  },
  {
   "cell_type": "markdown",
   "metadata": {},
   "source": [
    "### Save Explainer"
   ]
  },
  {
   "cell_type": "code",
   "execution_count": 7,
   "metadata": {},
   "outputs": [
    {
     "name": "stdout",
     "output_type": "stream",
     "text": [
      "Saving explainer to file INCOMELEVELRF20191231110921_Explainer.pkl\n"
     ]
    }
   ],
   "source": [
    "save_file_path = '{}_Explainer.pkl'.format(MLModelObject.get_model_id())\n",
    "mltk.save_explainer(Explainer, save_file_path)"
   ]
  },
  {
   "cell_type": "markdown",
   "metadata": {},
   "source": [
    "### Load Explainer"
   ]
  },
  {
   "cell_type": "code",
   "execution_count": 8,
   "metadata": {},
   "outputs": [
    {
     "name": "stdout",
     "output_type": "stream",
     "text": [
      "Loading explainer from file INCOMELEVELRF20191231110921_Explainer.pkl\n"
     ]
    }
   ],
   "source": [
    "Explainer = mltk.load_explainer(save_file_path)"
   ]
  },
  {
   "cell_type": "markdown",
   "metadata": {},
   "source": [
    "### Explain Records"
   ]
  },
  {
   "cell_type": "code",
   "execution_count": 9,
   "metadata": {},
   "outputs": [],
   "source": [
    "ImpactValues, VariableValues = mltk.get_explainer_values_task(DataFrame, Explainer=Explainer, verbose=False)"
   ]
  },
  {
   "cell_type": "markdown",
   "metadata": {},
   "source": [
    "### Visualize Explantion (Using Shap force_plot)"
   ]
  },
  {
   "cell_type": "code",
   "execution_count": 10,
   "metadata": {},
   "outputs": [
    {
     "data": {
      "image/png": "[encoded data removed]",
      "text/plain": [
       "<Figure size 1440x288 with 1 Axes>"
      ]
     },
     "execution_count": 10,
     "metadata": {},
     "output_type": "execute_result"
    }
   ],
   "source": [
    "explainer_visual = mltk.get_explainer_visual(ImpactValues, VariableValues, Explainer, visual_config={'figsize':[20,4], 'text_rotation':90})\n",
    "explainer_visual"
   ]
  },
  {
   "cell_type": "markdown",
   "metadata": {},
   "source": [
    "### Generate Explain Summary"
   ]
  },
  {
   "cell_type": "code",
   "execution_count": 11,
   "metadata": {},
   "outputs": [
    {
     "name": "stdout",
     "output_type": "stream",
     "text": [
      "sum_posivite_impact_values 0.47119034752388556\n",
      "sum_negative_impact_values -0.1790829595786017\n"
     ]
    },
    {
     "data": {
      "text/html": [
       "<div>\n",
       "<style scoped>\n",
       "    .dataframe tbody tr th:only-of-type {\n",
       "        vertical-align: middle;\n",
       "    }\n",
       "\n",
       "    .dataframe tbody tr th {\n",
       "        vertical-align: top;\n",
       "    }\n",
       "\n",
       "    .dataframe thead th {\n",
       "        text-align: right;\n",
       "    }\n",
       "</style>\n",
       "<table border=\"1\" class=\"dataframe\">\n",
       "  <thead>\n",
       "    <tr style=\"text-align: right;\">\n",
       "      <th></th>\n",
       "      <th>Impact</th>\n",
       "      <th>NormalizedImpact</th>\n",
       "      <th>Value</th>\n",
       "      <th>Sign</th>\n",
       "      <th>Rank</th>\n",
       "      <th>Output</th>\n",
       "    </tr>\n",
       "  </thead>\n",
       "  <tbody>\n",
       "    <tr>\n",
       "      <th>occupation_Prof-specialty</th>\n",
       "      <td>0.14219</td>\n",
       "      <td>0.30178</td>\n",
       "      <td>1</td>\n",
       "      <td>P</td>\n",
       "      <td>1</td>\n",
       "      <td>None</td>\n",
       "    </tr>\n",
       "    <tr>\n",
       "      <th>maritalstatus_Married</th>\n",
       "      <td>0.07811</td>\n",
       "      <td>0.16577</td>\n",
       "      <td>1</td>\n",
       "      <td>P</td>\n",
       "      <td>2</td>\n",
       "      <td>None</td>\n",
       "    </tr>\n",
       "    <tr>\n",
       "      <th>educationnumGRP_3_(8,9]</th>\n",
       "      <td>0.04138</td>\n",
       "      <td>0.08782</td>\n",
       "      <td>0</td>\n",
       "      <td>P</td>\n",
       "      <td>3</td>\n",
       "      <td>None</td>\n",
       "    </tr>\n",
       "    <tr>\n",
       "      <th>relationship_Husband</th>\n",
       "      <td>0.04122</td>\n",
       "      <td>0.08748</td>\n",
       "      <td>1</td>\n",
       "      <td>P</td>\n",
       "      <td>4</td>\n",
       "      <td>None</td>\n",
       "    </tr>\n",
       "    <tr>\n",
       "      <th>maritalstatus_Never-married</th>\n",
       "      <td>0.03406</td>\n",
       "      <td>0.07227</td>\n",
       "      <td>0</td>\n",
       "      <td>P</td>\n",
       "      <td>5</td>\n",
       "      <td>None</td>\n",
       "    </tr>\n",
       "    <tr>\n",
       "      <th>hoursperweekGRP_4_(40,60]</th>\n",
       "      <td>-0.02648</td>\n",
       "      <td>0.14786</td>\n",
       "      <td>0</td>\n",
       "      <td>N</td>\n",
       "      <td>1</td>\n",
       "      <td>None</td>\n",
       "    </tr>\n",
       "    <tr>\n",
       "      <th>nativecountryGRP_Other</th>\n",
       "      <td>-0.02626</td>\n",
       "      <td>0.14663</td>\n",
       "      <td>1</td>\n",
       "      <td>N</td>\n",
       "      <td>2</td>\n",
       "      <td>None</td>\n",
       "    </tr>\n",
       "    <tr>\n",
       "      <th>ageGRP_4_(40,50]</th>\n",
       "      <td>-0.02489</td>\n",
       "      <td>0.13899</td>\n",
       "      <td>0</td>\n",
       "      <td>N</td>\n",
       "      <td>3</td>\n",
       "      <td>None</td>\n",
       "    </tr>\n",
       "    <tr>\n",
       "      <th>ageGRP_5_(50,60]</th>\n",
       "      <td>-0.01737</td>\n",
       "      <td>0.09697</td>\n",
       "      <td>0</td>\n",
       "      <td>N</td>\n",
       "      <td>4</td>\n",
       "      <td>None</td>\n",
       "    </tr>\n",
       "    <tr>\n",
       "      <th>occupation_Exec-managerial</th>\n",
       "      <td>-0.01689</td>\n",
       "      <td>0.09431</td>\n",
       "      <td>0</td>\n",
       "      <td>N</td>\n",
       "      <td>5</td>\n",
       "      <td>None</td>\n",
       "    </tr>\n",
       "  </tbody>\n",
       "</table>\n",
       "</div>"
      ],
      "text/plain": [
       "                              Impact  NormalizedImpact  Value Sign  Rank Output\n",
       "occupation_Prof-specialty    0.14219           0.30178      1    P     1   None\n",
       "maritalstatus_Married        0.07811           0.16577      1    P     2   None\n",
       "educationnumGRP_3_(8,9]      0.04138           0.08782      0    P     3   None\n",
       "relationship_Husband         0.04122           0.08748      1    P     4   None\n",
       "maritalstatus_Never-married  0.03406           0.07227      0    P     5   None\n",
       "hoursperweekGRP_4_(40,60]   -0.02648           0.14786      0    N     1   None\n",
       "nativecountryGRP_Other      -0.02626           0.14663      1    N     2   None\n",
       "ageGRP_4_(40,50]            -0.02489           0.13899      0    N     3   None\n",
       "ageGRP_5_(50,60]            -0.01737           0.09697      0    N     4   None\n",
       "occupation_Exec-managerial  -0.01689           0.09431      0    N     5   None"
      ]
     },
     "execution_count": 11,
     "metadata": {},
     "output_type": "execute_result"
    }
   ],
   "source": [
    "explainer_summary = mltk.get_shap_impact_summary(ImpactValues, VariableValues, Explainer.get_model_variables(), iloc=0, top_n=5, show_plot=True)\n",
    "explainer_summary"
   ]
  },
  {
   "cell_type": "code",
   "execution_count": 12,
   "metadata": {},
   "outputs": [
    {
     "name": "stdout",
     "output_type": "stream",
     "text": [
      "sum_posivite_impact_values 0.47119034752388556\n",
      "sum_negative_impact_values -0.1790829595786017\n"
     ]
    },
    {
     "data": {
      "text/html": [
       "<div>\n",
       "<style scoped>\n",
       "    .dataframe tbody tr th:only-of-type {\n",
       "        vertical-align: middle;\n",
       "    }\n",
       "\n",
       "    .dataframe tbody tr th {\n",
       "        vertical-align: top;\n",
       "    }\n",
       "\n",
       "    .dataframe thead th {\n",
       "        text-align: right;\n",
       "    }\n",
       "</style>\n",
       "<table border=\"1\" class=\"dataframe\">\n",
       "  <thead>\n",
       "    <tr style=\"text-align: right;\">\n",
       "      <th></th>\n",
       "      <th>Impact</th>\n",
       "      <th>NormalizedImpact</th>\n",
       "      <th>Value</th>\n",
       "      <th>Sign</th>\n",
       "      <th>Rank</th>\n",
       "      <th>Output</th>\n",
       "    </tr>\n",
       "  </thead>\n",
       "  <tbody>\n",
       "    <tr>\n",
       "      <th>occupation_Prof-specialty</th>\n",
       "      <td>0.14219</td>\n",
       "      <td>0.30178</td>\n",
       "      <td>1</td>\n",
       "      <td>P</td>\n",
       "      <td>1</td>\n",
       "      <td>0.53248</td>\n",
       "    </tr>\n",
       "    <tr>\n",
       "      <th>maritalstatus_Married</th>\n",
       "      <td>0.07811</td>\n",
       "      <td>0.16577</td>\n",
       "      <td>1</td>\n",
       "      <td>P</td>\n",
       "      <td>2</td>\n",
       "      <td>0.53248</td>\n",
       "    </tr>\n",
       "    <tr>\n",
       "      <th>educationnumGRP_3_(8,9]</th>\n",
       "      <td>0.04138</td>\n",
       "      <td>0.08782</td>\n",
       "      <td>0</td>\n",
       "      <td>P</td>\n",
       "      <td>3</td>\n",
       "      <td>0.53248</td>\n",
       "    </tr>\n",
       "    <tr>\n",
       "      <th>relationship_Husband</th>\n",
       "      <td>0.04122</td>\n",
       "      <td>0.08748</td>\n",
       "      <td>1</td>\n",
       "      <td>P</td>\n",
       "      <td>4</td>\n",
       "      <td>0.53248</td>\n",
       "    </tr>\n",
       "    <tr>\n",
       "      <th>maritalstatus_Never-married</th>\n",
       "      <td>0.03406</td>\n",
       "      <td>0.07227</td>\n",
       "      <td>0</td>\n",
       "      <td>P</td>\n",
       "      <td>5</td>\n",
       "      <td>0.53248</td>\n",
       "    </tr>\n",
       "    <tr>\n",
       "      <th>ageGRP_2_(20,30]</th>\n",
       "      <td>0.02286</td>\n",
       "      <td>0.04853</td>\n",
       "      <td>0</td>\n",
       "      <td>P</td>\n",
       "      <td>6</td>\n",
       "      <td>0.53248</td>\n",
       "    </tr>\n",
       "    <tr>\n",
       "      <th>educationnumGRP_1_(1,5]</th>\n",
       "      <td>0.01570</td>\n",
       "      <td>0.03332</td>\n",
       "      <td>0</td>\n",
       "      <td>P</td>\n",
       "      <td>7</td>\n",
       "      <td>0.53248</td>\n",
       "    </tr>\n",
       "    <tr>\n",
       "      <th>relationship_Own-child</th>\n",
       "      <td>0.01293</td>\n",
       "      <td>0.02744</td>\n",
       "      <td>0</td>\n",
       "      <td>P</td>\n",
       "      <td>8</td>\n",
       "      <td>0.53248</td>\n",
       "    </tr>\n",
       "    <tr>\n",
       "      <th>relationship_Not-in-family</th>\n",
       "      <td>0.01046</td>\n",
       "      <td>0.02219</td>\n",
       "      <td>0</td>\n",
       "      <td>P</td>\n",
       "      <td>9</td>\n",
       "      <td>0.53248</td>\n",
       "    </tr>\n",
       "    <tr>\n",
       "      <th>educationnumGRP_4_(9,12]</th>\n",
       "      <td>0.00808</td>\n",
       "      <td>0.01714</td>\n",
       "      <td>0</td>\n",
       "      <td>P</td>\n",
       "      <td>10</td>\n",
       "      <td>0.53248</td>\n",
       "    </tr>\n",
       "    <tr>\n",
       "      <th>hoursperweekGRP_4_(40,60]</th>\n",
       "      <td>-0.02648</td>\n",
       "      <td>0.14786</td>\n",
       "      <td>0</td>\n",
       "      <td>N</td>\n",
       "      <td>1</td>\n",
       "      <td>0.53248</td>\n",
       "    </tr>\n",
       "    <tr>\n",
       "      <th>nativecountryGRP_Other</th>\n",
       "      <td>-0.02626</td>\n",
       "      <td>0.14663</td>\n",
       "      <td>1</td>\n",
       "      <td>N</td>\n",
       "      <td>2</td>\n",
       "      <td>0.53248</td>\n",
       "    </tr>\n",
       "    <tr>\n",
       "      <th>ageGRP_4_(40,50]</th>\n",
       "      <td>-0.02489</td>\n",
       "      <td>0.13899</td>\n",
       "      <td>0</td>\n",
       "      <td>N</td>\n",
       "      <td>3</td>\n",
       "      <td>0.53248</td>\n",
       "    </tr>\n",
       "    <tr>\n",
       "      <th>ageGRP_5_(50,60]</th>\n",
       "      <td>-0.01737</td>\n",
       "      <td>0.09697</td>\n",
       "      <td>0</td>\n",
       "      <td>N</td>\n",
       "      <td>4</td>\n",
       "      <td>0.53248</td>\n",
       "    </tr>\n",
       "    <tr>\n",
       "      <th>occupation_Exec-managerial</th>\n",
       "      <td>-0.01689</td>\n",
       "      <td>0.09431</td>\n",
       "      <td>0</td>\n",
       "      <td>N</td>\n",
       "      <td>5</td>\n",
       "      <td>0.53248</td>\n",
       "    </tr>\n",
       "    <tr>\n",
       "      <th>race_Asian-Pac-Islander</th>\n",
       "      <td>-0.01506</td>\n",
       "      <td>0.08407</td>\n",
       "      <td>1</td>\n",
       "      <td>N</td>\n",
       "      <td>6</td>\n",
       "      <td>0.53248</td>\n",
       "    </tr>\n",
       "    <tr>\n",
       "      <th>ageGRP_3_(30,40]</th>\n",
       "      <td>-0.01228</td>\n",
       "      <td>0.06859</td>\n",
       "      <td>1</td>\n",
       "      <td>N</td>\n",
       "      <td>7</td>\n",
       "      <td>0.53248</td>\n",
       "    </tr>\n",
       "    <tr>\n",
       "      <th>hoursperweekGRP_3_(35,40]</th>\n",
       "      <td>-0.01067</td>\n",
       "      <td>0.05960</td>\n",
       "      <td>1</td>\n",
       "      <td>N</td>\n",
       "      <td>8</td>\n",
       "      <td>0.53248</td>\n",
       "    </tr>\n",
       "    <tr>\n",
       "      <th>workclass_Private</th>\n",
       "      <td>-0.00923</td>\n",
       "      <td>0.05155</td>\n",
       "      <td>1</td>\n",
       "      <td>N</td>\n",
       "      <td>9</td>\n",
       "      <td>0.53248</td>\n",
       "    </tr>\n",
       "    <tr>\n",
       "      <th>occupation_Sales</th>\n",
       "      <td>-0.00432</td>\n",
       "      <td>0.02411</td>\n",
       "      <td>0</td>\n",
       "      <td>N</td>\n",
       "      <td>10</td>\n",
       "      <td>0.53248</td>\n",
       "    </tr>\n",
       "  </tbody>\n",
       "</table>\n",
       "</div>"
      ],
      "text/plain": [
       "                              Impact  NormalizedImpact  Value Sign  Rank   Output\n",
       "occupation_Prof-specialty    0.14219           0.30178      1    P     1  0.53248\n",
       "maritalstatus_Married        0.07811           0.16577      1    P     2  0.53248\n",
       "educationnumGRP_3_(8,9]      0.04138           0.08782      0    P     3  0.53248\n",
       "relationship_Husband         0.04122           0.08748      1    P     4  0.53248\n",
       "maritalstatus_Never-married  0.03406           0.07227      0    P     5  0.53248\n",
       "ageGRP_2_(20,30]             0.02286           0.04853      0    P     6  0.53248\n",
       "educationnumGRP_1_(1,5]      0.01570           0.03332      0    P     7  0.53248\n",
       "relationship_Own-child       0.01293           0.02744      0    P     8  0.53248\n",
       "relationship_Not-in-family   0.01046           0.02219      0    P     9  0.53248\n",
       "educationnumGRP_4_(9,12]     0.00808           0.01714      0    P    10  0.53248\n",
       "hoursperweekGRP_4_(40,60]   -0.02648           0.14786      0    N     1  0.53248\n",
       "nativecountryGRP_Other      -0.02626           0.14663      1    N     2  0.53248\n",
       "ageGRP_4_(40,50]            -0.02489           0.13899      0    N     3  0.53248\n",
       "ageGRP_5_(50,60]            -0.01737           0.09697      0    N     4  0.53248\n",
       "occupation_Exec-managerial  -0.01689           0.09431      0    N     5  0.53248\n",
       "race_Asian-Pac-Islander     -0.01506           0.08407      1    N     6  0.53248\n",
       "ageGRP_3_(30,40]            -0.01228           0.06859      1    N     7  0.53248\n",
       "hoursperweekGRP_3_(35,40]   -0.01067           0.05960      1    N     8  0.53248\n",
       "workclass_Private           -0.00923           0.05155      1    N     9  0.53248\n",
       "occupation_Sales            -0.00432           0.02411      0    N    10  0.53248"
      ]
     },
     "execution_count": 12,
     "metadata": {},
     "output_type": "execute_result"
    }
   ],
   "source": [
    "explainer_report, explain_plot = mltk.get_explainer_report(DataFrame, Explainer, top_n=10, show_plot=True, return_type='frame')\n",
    "explainer_report"
   ]
  },
  {
   "cell_type": "markdown",
   "metadata": {},
   "source": [
    "### Impact plot"
   ]
  },
  {
   "cell_type": "code",
   "execution_count": 13,
   "metadata": {},
   "outputs": [
    {
     "data": {
      "image/png": "[encoded data removed]",
      "text/plain": [
       "<Figure size 432x288 with 2 Axes>"
      ]
     },
     "execution_count": 13,
     "metadata": {},
     "output_type": "execute_result"
    }
   ],
   "source": [
    "explain_plot"
   ]
  },
  {
   "cell_type": "markdown",
   "metadata": {},
   "source": [
    "## Cite as\n",
    "```\n",
    "@misc{mltk2019,\n",
    "  author =  \"Sumudu Tennakoon\",\n",
    "  title = \"MLToolKit(mltk): A Simplified Toolkit for Unifying End-To-End Machine Learing Projects\",\n",
    "  year = 2019,\n",
    "  publisher = \"GitHub\",\n",
    "  howpublished = {\\url{https://mltoolkit.github.io/mltk/}},\n",
    "  version = \"0.1.10\"\n",
    "}\n",
    "```"
   ]
  },
  {
   "cell_type": "markdown",
   "metadata": {},
   "source": [
    "<hr>\n",
    "This notebook and related materials were developed by Sumudu Tennakoon to demostrate the MLToolkit python library and its interoperability with the standared Python data analysis and machine learning packages (e.g. Pandas, Sci-kitlearn, Statsmodel, TensorFlow, Catboost, etc.)\n",
    "Create Date: July 01, 2018; Last Update: December 07, 2019. \n",
    "Apache License, Version 2.0 (http://www.apache.org/licenses/LICENSE-2.0)"
   ]
  }
 ],
 "metadata": {
  "kernelspec": {
   "display_name": "Python 3",
   "language": "python",
   "name": "python3"
  },
  "language_info": {
   "codemirror_mode": {
    "name": "ipython",
    "version": 3
   },
   "file_extension": ".py",
   "mimetype": "text/x-python",
   "name": "python",
   "nbconvert_exporter": "python",
   "pygments_lexer": "ipython3",
   "version": "3.6.8"
  }
 },
 "nbformat": 4,
 "nbformat_minor": 2
}
